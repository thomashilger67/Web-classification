{
 "cells": [
  {
   "attachments": {},
   "cell_type": "markdown",
   "metadata": {},
   "source": [
    "## Réseaux de neurones avec couche d'embedding de Glove \n",
    "### paramètres : vocabulaire limité à 20000\n",
    "###              vecteurs de taille 300"
   ]
  },
  {
   "attachments": {},
   "cell_type": "markdown",
   "metadata": {},
   "source": [
    "#### import des données et des packages "
   ]
  },
  {
   "cell_type": "code",
   "execution_count": null,
   "metadata": {},
   "outputs": [],
   "source": [
    "import pandas as pd\n",
    "import ast\n",
    "from keras.preprocessing.text import Tokenizer\n",
    "from keras.utils import pad_sequences\n",
    "import numpy as np \n",
    "from keras.models import Sequential\n",
    "from keras.layers import Dense, Dropout, Flatten, Conv1D, GlobalAveragePooling1D, Input, Embedding\n",
    "from keras.callbacks import EarlyStopping\n",
    "from sklearn.model_selection import train_test_split\n",
    "from tensorflow.keras.layers import TextVectorization\n",
    "import os \n",
    "import tensorflow as tf \n",
    "import keras \n",
    "\n"
   ]
  },
  {
   "cell_type": "code",
   "execution_count": 4,
   "metadata": {},
   "outputs": [],
   "source": [
    "df = pd.read_csv(\"/home/ensai/imatag/website_categorization_custom/categorization/Datasets/Feature_dataset_2023-02-01_clean_full.csv\")\n",
    "df = df.drop(\"Unnamed: 0\", axis = 1)\n",
    "\n",
    "\n",
    "def convert_to_list(row):\n",
    "    return ast.literal_eval(row['tokens'])\n",
    "\n",
    "df['tokens'] = df.apply(convert_to_list, axis = 1)\n",
    "\n",
    "data = []\n",
    "for index,row in df.iterrows():\n",
    "    data.append({\"class\":row[\"main_category\"], \"tokens\":row[\"tokens\"]})\n",
    "\n",
    "data_tokens = [' '.join(data[i]['tokens']) for i in range(len(data))]\n",
    "\n",
    "y = [data[i]['class'] for i in range(len(data))]"
   ]
  },
  {
   "cell_type": "code",
   "execution_count": null,
   "metadata": {},
   "outputs": [],
   "source": [
    "!wget http://nlp.stanford.edu/data/glove.6B.zip\n",
    "!unzip -q glove.6B.zip"
   ]
  },
  {
   "attachments": {},
   "cell_type": "markdown",
   "metadata": {},
   "source": [
    "#### création de l'index de mots et de la matrice d'embedding avec glove "
   ]
  },
  {
   "cell_type": "code",
   "execution_count": 5,
   "metadata": {},
   "outputs": [],
   "source": [
    "\n",
    "X_train,X_test,Y_train,Y_test=train_test_split(data_tokens,y,test_size=0.20,stratify=y)\n"
   ]
  },
  {
   "cell_type": "code",
   "execution_count": 8,
   "metadata": {},
   "outputs": [],
   "source": [
    "path_to_glove_file = os.path.join(os.path.expanduser(\"~\"), \"imatag/website_categorization_custom/glove.6B.300d.txt\")\n",
    "\n",
    "#création de l'index du vocabulaire à partir du modèle Glove pour des vecteurs de taille 100\n",
    "embeddings_index = {}\n",
    "with open(path_to_glove_file) as f:\n",
    "    for line in f:\n",
    "        word, coefs = line.split(maxsplit=1)\n",
    "        coefs = np.fromstring(coefs, \"f\", sep=\" \")\n",
    "        embeddings_index[word] = coefs\n",
    "\n"
   ]
  },
  {
   "cell_type": "code",
   "execution_count": 9,
   "metadata": {},
   "outputs": [],
   "source": [
    "#création du dictionnaire à partir de nos données\n",
    "vectorizer = TextVectorization(max_tokens=20000, output_sequence_length=300)\n",
    "text_ds = tf.data.Dataset.from_tensor_slices(X_train).batch(128)\n",
    "vectorizer.adapt(text_ds)\n",
    "\n",
    "voc = vectorizer.get_vocabulary()\n",
    "word_index = dict(zip(voc, range(len(voc))))\n"
   ]
  },
  {
   "cell_type": "code",
   "execution_count": 10,
   "metadata": {},
   "outputs": [
    {
     "name": "stdout",
     "output_type": "stream",
     "text": [
      "Converted 13378 words (6622 misses)\n"
     ]
    }
   ],
   "source": [
    "num_tokens = len(voc) + 2\n",
    "embedding_dim = 300\n",
    "hits = 0\n",
    "misses = 0\n",
    "\n",
    "#Création de la matrice d'embedding\n",
    "embedding_matrix = np.zeros((num_tokens, embedding_dim))\n",
    "for word, i in word_index.items():\n",
    "    embedding_vector = embeddings_index.get(word)\n",
    "    if embedding_vector is not None:\n",
    "\n",
    "        embedding_matrix[i] = embedding_vector\n",
    "        hits += 1\n",
    "    else:\n",
    "        misses += 1\n",
    "print(\"Converted %d words (%d misses)\" % (hits, misses))\n"
   ]
  },
  {
   "attachments": {},
   "cell_type": "markdown",
   "metadata": {},
   "source": [
    "#### création de nos échantillons d'entraînement et de test "
   ]
  },
  {
   "cell_type": "code",
   "execution_count": 11,
   "metadata": {},
   "outputs": [],
   "source": [
    "X_train_vect=[]\n",
    "for element in X_train:\n",
    "    X_train_vect.append(vectorizer(np.array(element)).numpy())\n",
    "X_train_vect=np.vstack(X_train_vect)\n",
    "\n",
    "X_test_vect=[]\n",
    "for element in X_test:\n",
    "    X_test_vect.append(vectorizer(np.array(element)).numpy())\n",
    "X_test_vect=np.vstack(X_test_vect)\n",
    "\n",
    "\n",
    "Y_train_encode=pd.get_dummies(Y_train)\n",
    "Y_test_encode=pd.get_dummies(Y_test)\n"
   ]
  },
  {
   "attachments": {},
   "cell_type": "markdown",
   "metadata": {},
   "source": [
    "#### Modèle de réseau de neurones "
   ]
  },
  {
   "cell_type": "code",
   "execution_count": 12,
   "metadata": {},
   "outputs": [
    {
     "name": "stdout",
     "output_type": "stream",
     "text": [
      "Model: \"sequential\"\n",
      "_________________________________________________________________\n",
      " Layer (type)                Output Shape              Param #   \n",
      "=================================================================\n",
      " embedding (Embedding)       (None, None, 300)         6000600   \n",
      "                                                                 \n",
      " global_average_pooling1d (G  (None, 300)              0         \n",
      " lobalAveragePooling1D)                                          \n",
      "                                                                 \n",
      " dense (Dense)               (None, 64)                19264     \n",
      "                                                                 \n",
      " dropout (Dropout)           (None, 64)                0         \n",
      "                                                                 \n",
      " dense_1 (Dense)             (None, 25)                1625      \n",
      "                                                                 \n",
      "=================================================================\n",
      "Total params: 6,021,489\n",
      "Trainable params: 20,889\n",
      "Non-trainable params: 6,000,600\n",
      "_________________________________________________________________\n"
     ]
    }
   ],
   "source": [
    "\n",
    "model=Sequential()\n",
    "model.add(Embedding(num_tokens,embedding_dim,embeddings_initializer=keras.initializers.Constant(embedding_matrix),\n",
    "    trainable=False, mask_zero=True))\n",
    "model.add(GlobalAveragePooling1D())\n",
    "model.add(Dense(64,activation='relu'))\n",
    "model.add(Dropout(0.3))\n",
    "\n",
    "model.add(Dense(units=25,activation='softmax'))\n",
    "model.compile(loss='categorical_crossentropy',optimizer='adam',metrics=['accuracy'])\n",
    "\n",
    "model.summary()"
   ]
  },
  {
   "cell_type": "code",
   "execution_count": 13,
   "metadata": {},
   "outputs": [
    {
     "name": "stdout",
     "output_type": "stream",
     "text": [
      "Epoch 1/100\n",
      "268/268 [==============================] - 4s 12ms/step - loss: 2.8867 - accuracy: 0.2187 - val_loss: 2.5480 - val_accuracy: 0.3596\n",
      "Epoch 2/100\n",
      "268/268 [==============================] - 3s 12ms/step - loss: 2.3547 - accuracy: 0.3918 - val_loss: 2.1927 - val_accuracy: 0.4375\n",
      "Epoch 3/100\n",
      "268/268 [==============================] - 3s 11ms/step - loss: 2.1057 - accuracy: 0.4468 - val_loss: 2.0293 - val_accuracy: 0.4846\n",
      "Epoch 4/100\n",
      "268/268 [==============================] - 3s 12ms/step - loss: 1.9734 - accuracy: 0.4768 - val_loss: 1.9417 - val_accuracy: 0.4879\n",
      "Epoch 5/100\n",
      "268/268 [==============================] - 3s 12ms/step - loss: 1.8889 - accuracy: 0.4993 - val_loss: 1.8823 - val_accuracy: 0.5037\n",
      "Epoch 6/100\n",
      "268/268 [==============================] - 3s 12ms/step - loss: 1.8291 - accuracy: 0.5139 - val_loss: 1.8500 - val_accuracy: 0.5201\n",
      "Epoch 7/100\n",
      "268/268 [==============================] - 3s 12ms/step - loss: 1.7861 - accuracy: 0.5244 - val_loss: 1.8184 - val_accuracy: 0.5261\n",
      "Epoch 8/100\n",
      "268/268 [==============================] - 3s 12ms/step - loss: 1.7580 - accuracy: 0.5262 - val_loss: 1.8023 - val_accuracy: 0.5285\n",
      "Epoch 9/100\n",
      "268/268 [==============================] - 3s 12ms/step - loss: 1.7141 - accuracy: 0.5412 - val_loss: 1.7877 - val_accuracy: 0.5280\n",
      "Epoch 10/100\n",
      "268/268 [==============================] - 3s 12ms/step - loss: 1.6911 - accuracy: 0.5409 - val_loss: 1.7799 - val_accuracy: 0.5331\n",
      "Epoch 11/100\n",
      "268/268 [==============================] - 3s 12ms/step - loss: 1.6627 - accuracy: 0.5491 - val_loss: 1.7670 - val_accuracy: 0.5359\n",
      "Epoch 12/100\n",
      "268/268 [==============================] - 3s 12ms/step - loss: 1.6383 - accuracy: 0.5636 - val_loss: 1.7581 - val_accuracy: 0.5429\n",
      "Epoch 13/100\n",
      "268/268 [==============================] - 3s 11ms/step - loss: 1.6305 - accuracy: 0.5557 - val_loss: 1.7569 - val_accuracy: 0.5471\n",
      "Epoch 14/100\n",
      "268/268 [==============================] - 3s 12ms/step - loss: 1.6080 - accuracy: 0.5650 - val_loss: 1.7562 - val_accuracy: 0.5396\n",
      "Epoch 15/100\n",
      "268/268 [==============================] - 3s 12ms/step - loss: 1.5896 - accuracy: 0.5630 - val_loss: 1.7511 - val_accuracy: 0.5480\n",
      "Epoch 16/100\n",
      "268/268 [==============================] - 3s 12ms/step - loss: 1.5763 - accuracy: 0.5653 - val_loss: 1.7468 - val_accuracy: 0.5462\n",
      "Epoch 17/100\n",
      "268/268 [==============================] - 3s 12ms/step - loss: 1.5588 - accuracy: 0.5728 - val_loss: 1.7394 - val_accuracy: 0.5485\n",
      "Epoch 18/100\n",
      "268/268 [==============================] - 3s 12ms/step - loss: 1.5419 - accuracy: 0.5772 - val_loss: 1.7416 - val_accuracy: 0.5490\n",
      "Epoch 19/100\n",
      "268/268 [==============================] - 3s 12ms/step - loss: 1.5361 - accuracy: 0.5770 - val_loss: 1.7424 - val_accuracy: 0.5485\n",
      "Epoch 20/100\n",
      "268/268 [==============================] - 3s 11ms/step - loss: 1.5233 - accuracy: 0.5857 - val_loss: 1.7394 - val_accuracy: 0.5490\n",
      "Epoch 21/100\n",
      "268/268 [==============================] - 3s 12ms/step - loss: 1.5102 - accuracy: 0.5846 - val_loss: 1.7404 - val_accuracy: 0.5494\n",
      "Epoch 22/100\n",
      "268/268 [==============================] - 3s 12ms/step - loss: 1.5029 - accuracy: 0.5892 - val_loss: 1.7421 - val_accuracy: 0.5476\n",
      "Epoch 23/100\n",
      "268/268 [==============================] - 3s 12ms/step - loss: 1.4964 - accuracy: 0.5844 - val_loss: 1.7405 - val_accuracy: 0.5494\n",
      "Epoch 24/100\n",
      "268/268 [==============================] - 3s 12ms/step - loss: 1.4671 - accuracy: 0.5905 - val_loss: 1.7385 - val_accuracy: 0.5522\n",
      "Epoch 25/100\n",
      "268/268 [==============================] - 3s 12ms/step - loss: 1.4704 - accuracy: 0.5952 - val_loss: 1.7306 - val_accuracy: 0.5555\n",
      "Epoch 26/100\n",
      "268/268 [==============================] - 3s 12ms/step - loss: 1.4568 - accuracy: 0.5977 - val_loss: 1.7404 - val_accuracy: 0.5518\n",
      "Epoch 27/100\n",
      "268/268 [==============================] - 3s 12ms/step - loss: 1.4534 - accuracy: 0.5953 - val_loss: 1.7388 - val_accuracy: 0.5518\n",
      "Epoch 28/100\n",
      "268/268 [==============================] - 3s 12ms/step - loss: 1.4353 - accuracy: 0.6002 - val_loss: 1.7395 - val_accuracy: 0.5541\n",
      "Epoch 29/100\n",
      "268/268 [==============================] - 3s 12ms/step - loss: 1.4198 - accuracy: 0.6012 - val_loss: 1.7424 - val_accuracy: 0.5546\n",
      "Epoch 30/100\n",
      "268/268 [==============================] - 3s 12ms/step - loss: 1.4192 - accuracy: 0.6015 - val_loss: 1.7443 - val_accuracy: 0.5606\n",
      "Epoch 31/100\n",
      "268/268 [==============================] - 3s 12ms/step - loss: 1.4091 - accuracy: 0.6038 - val_loss: 1.7451 - val_accuracy: 0.5611\n",
      "Epoch 32/100\n",
      "268/268 [==============================] - 3s 12ms/step - loss: 1.4055 - accuracy: 0.6103 - val_loss: 1.7449 - val_accuracy: 0.5648\n",
      "Epoch 33/100\n",
      "268/268 [==============================] - 3s 12ms/step - loss: 1.3993 - accuracy: 0.6065 - val_loss: 1.7421 - val_accuracy: 0.5611\n",
      "Epoch 34/100\n",
      "268/268 [==============================] - 3s 12ms/step - loss: 1.3907 - accuracy: 0.6113 - val_loss: 1.7428 - val_accuracy: 0.5616\n",
      "Epoch 35/100\n",
      "268/268 [==============================] - 3s 12ms/step - loss: 1.3854 - accuracy: 0.6123 - val_loss: 1.7444 - val_accuracy: 0.5653\n",
      "Epoch 36/100\n",
      "268/268 [==============================] - 3s 12ms/step - loss: 1.3680 - accuracy: 0.6116 - val_loss: 1.7474 - val_accuracy: 0.5634\n",
      "Epoch 37/100\n",
      "268/268 [==============================] - 3s 12ms/step - loss: 1.3723 - accuracy: 0.6132 - val_loss: 1.7565 - val_accuracy: 0.5583\n",
      "Epoch 38/100\n",
      "268/268 [==============================] - 3s 12ms/step - loss: 1.3639 - accuracy: 0.6138 - val_loss: 1.7569 - val_accuracy: 0.5578\n",
      "Epoch 39/100\n",
      "268/268 [==============================] - 3s 12ms/step - loss: 1.3566 - accuracy: 0.6141 - val_loss: 1.7550 - val_accuracy: 0.5648\n",
      "Epoch 40/100\n",
      "268/268 [==============================] - 3s 12ms/step - loss: 1.3436 - accuracy: 0.6204 - val_loss: 1.7610 - val_accuracy: 0.5602\n",
      "Epoch 41/100\n",
      "268/268 [==============================] - 3s 12ms/step - loss: 1.3489 - accuracy: 0.6172 - val_loss: 1.7620 - val_accuracy: 0.5583\n",
      "Epoch 42/100\n",
      "268/268 [==============================] - 3s 12ms/step - loss: 1.3409 - accuracy: 0.6267 - val_loss: 1.7501 - val_accuracy: 0.5648\n",
      "Epoch 43/100\n",
      "268/268 [==============================] - 3s 12ms/step - loss: 1.3419 - accuracy: 0.6200 - val_loss: 1.7618 - val_accuracy: 0.5672\n",
      "Epoch 44/100\n",
      "268/268 [==============================] - 3s 12ms/step - loss: 1.3213 - accuracy: 0.6225 - val_loss: 1.7573 - val_accuracy: 0.5648\n",
      "Epoch 45/100\n",
      "268/268 [==============================] - 3s 12ms/step - loss: 1.3237 - accuracy: 0.6265 - val_loss: 1.7606 - val_accuracy: 0.5620\n",
      "Epoch 46/100\n",
      "268/268 [==============================] - 3s 12ms/step - loss: 1.3199 - accuracy: 0.6251 - val_loss: 1.7601 - val_accuracy: 0.5686\n",
      "Epoch 47/100\n",
      "268/268 [==============================] - 3s 12ms/step - loss: 1.3174 - accuracy: 0.6295 - val_loss: 1.7651 - val_accuracy: 0.5676\n",
      "Epoch 48/100\n",
      "268/268 [==============================] - 3s 12ms/step - loss: 1.3127 - accuracy: 0.6267 - val_loss: 1.7680 - val_accuracy: 0.5644\n",
      "Epoch 49/100\n",
      "268/268 [==============================] - 3s 12ms/step - loss: 1.2956 - accuracy: 0.6306 - val_loss: 1.7742 - val_accuracy: 0.5667\n",
      "Epoch 50/100\n",
      "268/268 [==============================] - 3s 12ms/step - loss: 1.2891 - accuracy: 0.6290 - val_loss: 1.7751 - val_accuracy: 0.5690\n",
      "Epoch 51/100\n",
      "268/268 [==============================] - 3s 12ms/step - loss: 1.2748 - accuracy: 0.6351 - val_loss: 1.7728 - val_accuracy: 0.5644\n",
      "Epoch 52/100\n",
      "268/268 [==============================] - 3s 13ms/step - loss: 1.2893 - accuracy: 0.6347 - val_loss: 1.7749 - val_accuracy: 0.5653\n",
      "Epoch 53/100\n",
      "268/268 [==============================] - 3s 12ms/step - loss: 1.2691 - accuracy: 0.6344 - val_loss: 1.7776 - val_accuracy: 0.5634\n",
      "Epoch 54/100\n",
      "268/268 [==============================] - 3s 12ms/step - loss: 1.2703 - accuracy: 0.6374 - val_loss: 1.7802 - val_accuracy: 0.5704\n",
      "Epoch 55/100\n",
      "268/268 [==============================] - 3s 12ms/step - loss: 1.2693 - accuracy: 0.6361 - val_loss: 1.7877 - val_accuracy: 0.5690\n",
      "Epoch 56/100\n",
      "268/268 [==============================] - 3s 12ms/step - loss: 1.2711 - accuracy: 0.6404 - val_loss: 1.7860 - val_accuracy: 0.5667\n",
      "Epoch 57/100\n",
      "268/268 [==============================] - 3s 13ms/step - loss: 1.2622 - accuracy: 0.6404 - val_loss: 1.7892 - val_accuracy: 0.5709\n",
      "Epoch 58/100\n",
      "268/268 [==============================] - 3s 13ms/step - loss: 1.2580 - accuracy: 0.6418 - val_loss: 1.7979 - val_accuracy: 0.5704\n",
      "Epoch 59/100\n",
      "268/268 [==============================] - 3s 12ms/step - loss: 1.2581 - accuracy: 0.6411 - val_loss: 1.7927 - val_accuracy: 0.5704\n",
      "Epoch 60/100\n",
      "268/268 [==============================] - 3s 13ms/step - loss: 1.2519 - accuracy: 0.6382 - val_loss: 1.8037 - val_accuracy: 0.5700\n",
      "Epoch 61/100\n",
      "268/268 [==============================] - 3s 13ms/step - loss: 1.2355 - accuracy: 0.6465 - val_loss: 1.8036 - val_accuracy: 0.5672\n",
      "Epoch 62/100\n",
      "268/268 [==============================] - 3s 13ms/step - loss: 1.2467 - accuracy: 0.6398 - val_loss: 1.8060 - val_accuracy: 0.5681\n",
      "Epoch 63/100\n",
      "268/268 [==============================] - 3s 13ms/step - loss: 1.2397 - accuracy: 0.6430 - val_loss: 1.8002 - val_accuracy: 0.5681\n",
      "Epoch 64/100\n",
      "268/268 [==============================] - 3s 13ms/step - loss: 1.2308 - accuracy: 0.6491 - val_loss: 1.8063 - val_accuracy: 0.5686\n",
      "Epoch 65/100\n",
      "268/268 [==============================] - 3s 13ms/step - loss: 1.2297 - accuracy: 0.6475 - val_loss: 1.8151 - val_accuracy: 0.5681\n",
      "Epoch 66/100\n",
      "268/268 [==============================] - 3s 13ms/step - loss: 1.2193 - accuracy: 0.6493 - val_loss: 1.8073 - val_accuracy: 0.5718\n",
      "Epoch 67/100\n",
      "268/268 [==============================] - 3s 12ms/step - loss: 1.2242 - accuracy: 0.6501 - val_loss: 1.8153 - val_accuracy: 0.5718\n",
      "Epoch 68/100\n",
      "268/268 [==============================] - 3s 13ms/step - loss: 1.2247 - accuracy: 0.6414 - val_loss: 1.8277 - val_accuracy: 0.5658\n",
      "Epoch 69/100\n",
      "268/268 [==============================] - 3s 13ms/step - loss: 1.2089 - accuracy: 0.6512 - val_loss: 1.8249 - val_accuracy: 0.5737\n",
      "Epoch 70/100\n",
      "268/268 [==============================] - 3s 13ms/step - loss: 1.2162 - accuracy: 0.6486 - val_loss: 1.8301 - val_accuracy: 0.5700\n",
      "Epoch 71/100\n",
      "268/268 [==============================] - 3s 13ms/step - loss: 1.2006 - accuracy: 0.6544 - val_loss: 1.8310 - val_accuracy: 0.5662\n",
      "Epoch 72/100\n",
      "268/268 [==============================] - 3s 13ms/step - loss: 1.2059 - accuracy: 0.6524 - val_loss: 1.8287 - val_accuracy: 0.5686\n",
      "Epoch 73/100\n",
      "268/268 [==============================] - 3s 12ms/step - loss: 1.2039 - accuracy: 0.6552 - val_loss: 1.8378 - val_accuracy: 0.5728\n",
      "Epoch 74/100\n",
      "268/268 [==============================] - 3s 12ms/step - loss: 1.1833 - accuracy: 0.6572 - val_loss: 1.8386 - val_accuracy: 0.5700\n",
      "Epoch 75/100\n",
      "268/268 [==============================] - 3s 13ms/step - loss: 1.1952 - accuracy: 0.6527 - val_loss: 1.8419 - val_accuracy: 0.5690\n",
      "Epoch 76/100\n",
      "268/268 [==============================] - 3s 13ms/step - loss: 1.1878 - accuracy: 0.6582 - val_loss: 1.8413 - val_accuracy: 0.5746\n",
      "Epoch 77/100\n",
      "268/268 [==============================] - 3s 13ms/step - loss: 1.1831 - accuracy: 0.6528 - val_loss: 1.8477 - val_accuracy: 0.5686\n",
      "Epoch 78/100\n",
      "268/268 [==============================] - 3s 12ms/step - loss: 1.1773 - accuracy: 0.6601 - val_loss: 1.8435 - val_accuracy: 0.5681\n",
      "Epoch 79/100\n",
      "268/268 [==============================] - 3s 12ms/step - loss: 1.1809 - accuracy: 0.6557 - val_loss: 1.8542 - val_accuracy: 0.5690\n",
      "Epoch 80/100\n",
      "268/268 [==============================] - 3s 13ms/step - loss: 1.1652 - accuracy: 0.6662 - val_loss: 1.8680 - val_accuracy: 0.5737\n",
      "Epoch 81/100\n",
      "268/268 [==============================] - 3s 13ms/step - loss: 1.1753 - accuracy: 0.6598 - val_loss: 1.8647 - val_accuracy: 0.5704\n",
      "Epoch 82/100\n",
      "268/268 [==============================] - 3s 13ms/step - loss: 1.1664 - accuracy: 0.6615 - val_loss: 1.8673 - val_accuracy: 0.5616\n",
      "Epoch 83/100\n",
      "268/268 [==============================] - 3s 13ms/step - loss: 1.1668 - accuracy: 0.6606 - val_loss: 1.8645 - val_accuracy: 0.5662\n",
      "Epoch 84/100\n",
      "268/268 [==============================] - 3s 13ms/step - loss: 1.1563 - accuracy: 0.6656 - val_loss: 1.8743 - val_accuracy: 0.5639\n",
      "Epoch 85/100\n",
      "268/268 [==============================] - 3s 13ms/step - loss: 1.1469 - accuracy: 0.6659 - val_loss: 1.8774 - val_accuracy: 0.5681\n",
      "Epoch 86/100\n",
      "268/268 [==============================] - 3s 13ms/step - loss: 1.1551 - accuracy: 0.6642 - val_loss: 1.8803 - val_accuracy: 0.5662\n",
      "Epoch 87/100\n",
      "268/268 [==============================] - 3s 13ms/step - loss: 1.1506 - accuracy: 0.6647 - val_loss: 1.8813 - val_accuracy: 0.5653\n",
      "Epoch 88/100\n",
      "268/268 [==============================] - 3s 13ms/step - loss: 1.1439 - accuracy: 0.6666 - val_loss: 1.8891 - val_accuracy: 0.5616\n",
      "Epoch 89/100\n",
      "268/268 [==============================] - 3s 12ms/step - loss: 1.1440 - accuracy: 0.6668 - val_loss: 1.8858 - val_accuracy: 0.5658\n",
      "Epoch 90/100\n",
      "268/268 [==============================] - 3s 13ms/step - loss: 1.1486 - accuracy: 0.6648 - val_loss: 1.8964 - val_accuracy: 0.5667\n",
      "Epoch 91/100\n",
      "268/268 [==============================] - 3s 13ms/step - loss: 1.1520 - accuracy: 0.6638 - val_loss: 1.9009 - val_accuracy: 0.5690\n",
      "Epoch 92/100\n",
      "268/268 [==============================] - 3s 13ms/step - loss: 1.1493 - accuracy: 0.6635 - val_loss: 1.8973 - val_accuracy: 0.5723\n",
      "Epoch 93/100\n",
      "268/268 [==============================] - 3s 13ms/step - loss: 1.1345 - accuracy: 0.6642 - val_loss: 1.9029 - val_accuracy: 0.5690\n",
      "Epoch 94/100\n",
      "268/268 [==============================] - 3s 13ms/step - loss: 1.1314 - accuracy: 0.6675 - val_loss: 1.9092 - val_accuracy: 0.5639\n",
      "Epoch 95/100\n",
      "268/268 [==============================] - 3s 12ms/step - loss: 1.1370 - accuracy: 0.6678 - val_loss: 1.8979 - val_accuracy: 0.5667\n",
      "Epoch 96/100\n",
      "268/268 [==============================] - 3s 13ms/step - loss: 1.1382 - accuracy: 0.6681 - val_loss: 1.9266 - val_accuracy: 0.5616\n",
      "Epoch 97/100\n",
      "268/268 [==============================] - 3s 13ms/step - loss: 1.1235 - accuracy: 0.6703 - val_loss: 1.9073 - val_accuracy: 0.5667\n",
      "Epoch 98/100\n",
      "268/268 [==============================] - 3s 13ms/step - loss: 1.1179 - accuracy: 0.6745 - val_loss: 1.9182 - val_accuracy: 0.5625\n",
      "Epoch 99/100\n",
      "268/268 [==============================] - 3s 13ms/step - loss: 1.1254 - accuracy: 0.6709 - val_loss: 1.9268 - val_accuracy: 0.5662\n",
      "Epoch 100/100\n",
      "268/268 [==============================] - 3s 12ms/step - loss: 1.1241 - accuracy: 0.6725 - val_loss: 1.9197 - val_accuracy: 0.5639\n"
     ]
    }
   ],
   "source": [
    "\n",
    "history=model.fit(X_train_vect, Y_train_encode, batch_size=32, epochs=100, validation_data=(X_test_vect, Y_test_encode))\n"
   ]
  },
  {
   "cell_type": "code",
   "execution_count": 16,
   "metadata": {},
   "outputs": [
    {
     "name": "stdout",
     "output_type": "stream",
     "text": [
      "Training Accuracy: 0.7484\n",
      "Testing Accuracy:  0.5639\n"
     ]
    }
   ],
   "source": [
    "loss, accuracy = model.evaluate(X_train_vect, Y_train_encode, verbose=False)\n",
    "print(\"Training Accuracy: {:.4f}\".format(accuracy))\n",
    "loss, accuracy = model.evaluate(X_test_vect, Y_test_encode, verbose=False)\n",
    "print(\"Testing Accuracy:  {:.4f}\".format(accuracy))"
   ]
  },
  {
   "cell_type": "code",
   "execution_count": 14,
   "metadata": {},
   "outputs": [
    {
     "name": "stdout",
     "output_type": "stream",
     "text": [
      "dict_keys(['loss', 'accuracy', 'val_loss', 'val_accuracy'])\n"
     ]
    },
    {
     "data": {
      "image/png": "[encoded data removed]",
      "text/plain": [
       "<Figure size 1200x500 with 2 Axes>"
      ]
     },
     "metadata": {},
     "output_type": "display_data"
    }
   ],
   "source": [
    "import matplotlib.pyplot as plt\n",
    "plt.style.use('ggplot')\n",
    "\n",
    "def plot_history(history):\n",
    "    print(history.history.keys())\n",
    "    acc = history.history['accuracy']\n",
    "    val_acc = history.history['val_accuracy']\n",
    "    loss = history.history['loss']\n",
    "    val_loss = history.history['val_loss']\n",
    "    x = range(1, len(acc) + 1)\n",
    "\n",
    "    plt.figure(figsize=(12, 5))\n",
    "    plt.subplot(1, 2, 1)\n",
    "    plt.plot(x, acc, 'b', label='Training acc')\n",
    "    plt.plot(x, val_acc, 'r', label='Validation acc')\n",
    "    plt.title('Training and validation accuracy')\n",
    "    plt.legend()\n",
    "    plt.subplot(1, 2, 2)\n",
    "    plt.plot(x, loss, 'b', label='Training loss')\n",
    "    plt.plot(x, val_loss, 'r', label='Validation loss')\n",
    "    plt.title('Training and validation loss')\n",
    "    plt.legend()\n",
    "\n",
    "plot_history(history)"
   ]
  },
  {
   "cell_type": "code",
   "execution_count": null,
   "metadata": {},
   "outputs": [],
   "source": [
    "from sklearn import metrics\n",
    "import matplotlib.pyplot as plt\n",
    "import numpy\n",
    "y_pred=model.predict(x_test)\n",
    "y_pred_label=np.array([labels.columns[[y_pred[i].argmax()]][0] for i in range(y_test.shape[0])])\n",
    "y_test_label=np.array([labels.columns[[y_test.iloc[i].argmax()]][0] for i in range(y_test.shape[0])])\n",
    "confusion_matrix = metrics.confusion_matrix(y_test_label, y_pred_label)\n",
    "\n",
    "cm_display = metrics.ConfusionMatrixDisplay.from_predictions(y_test_label, y_pred_label,xticks_rotation='vertical')\n",
    "\n",
    "fig = cm_display.ax_.get_figure() \n",
    "fig.set_figwidth(15)\n",
    "fig.set_figheight(15)  \n",
    "\n",
    "plt.show() "
   ]
  }
 ],
 "metadata": {
  "kernelspec": {
   "display_name": "Python 3",
   "language": "python",
   "name": "python3"
  },
  "language_info": {
   "codemirror_mode": {
    "name": "ipython",
    "version": 3
   },
   "file_extension": ".py",
   "mimetype": "text/x-python",
   "name": "python",
   "nbconvert_exporter": "python",
   "pygments_lexer": "ipython3",
   "version": "3.8.10"
  },
  "orig_nbformat": 4,
  "vscode": {
   "interpreter": {
    "hash": "916dbcbb3f70747c44a77c7bcd40155683ae19c65e1c03b4aa3499c5328201f1"
   }
  }
 },
 "nbformat": 4,
 "nbformat_minor": 2
}
