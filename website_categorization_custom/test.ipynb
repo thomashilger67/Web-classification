{
 "cells": [
  {
   "cell_type": "code",
   "execution_count": 3,
   "metadata": {},
   "outputs": [],
   "source": [
    "import requests\n",
    "from bs4 import BeautifulSoup\n",
    "\n",
    "def get_html_test(url : str):\n",
    "    response = requests.get(url)\n",
    "    soup = BeautifulSoup(response.text, 'html.parser')\n",
    "    html_text = (soup.get_text()).replace(\"\\n\", \" \")\n",
    "    return html_text"
   ]
  },
  {
   "cell_type": "code",
   "execution_count": 4,
   "metadata": {},
   "outputs": [
    {
     "data": {
      "text/plain": [
       "\"    Arthur Stanhope (6e comte Stanhope) — Wikipédia                                     Aller au contenu      Afficher\\u202f/\\u202fmasquer la barre latérale             Rechercher                  Créer un compte      Outils personnels    Créer un compte Se connecter     \\t\\t\\t\\tPages pour les contributeurs déconnectés en savoir plus    DiscussionContributions            Navigation   AccueilPortails thématiquesArticle au hasardContact     Contribuer   Débuter sur WikipédiaAideCommunautéModifications récentesFaire un don     Outils   Pages liéesSuivi des pages liéesTéléverser un fichierPages spécialesLien permanentInformations sur la pageCiter cette pageÉlément Wikidata     Imprimer\\u202f/\\u202fexporter   Créer un livreTélécharger comme PDFVersion imprimable     Langues  Sur cette version linguistique de Wikipédia, les liens interlangues sont placés en haut à droite du titre de l’article.Aller en haut.                Sommaire déplacer vers la barre latérale masquer     Début      1Biographie        2Famille        3Références        4Liens externes             \\t\\t\\t\\t\\t\\tBasculer la table des matières \\t\\t\\t\\t\\t           Arthur Stanhope (6e comte Stanhope)    2\\xa0langues    مصرىEnglish Modifier les liens           ArticleDiscussion      français              LireModifierModifier le codeVoir l’historique        Plus    LireModifierModifier le codeVoir l’historique            Un article de Wikipédia, l'encyclopédie libre.       Arthur Stanhope   Le 6e comte Stanhope.     Fonctions  Membre de la Chambre des lordsLord Temporal  24 décembre 1875 – 19 avril 1905(29\\xa0ans, 3\\xa0mois et 26\\xa0jours)Pairie héréditaire  Prédécesseur  Philip Stanhope    Successeur  James Stanhope    Député britannique  1er juin 1870 – 24 décembre 1875(5\\xa0ans, 6\\xa0mois et 23\\xa0jours)  Circonscription  East Suffolk    Prédécesseur  John Henniker-Major    Successeur  Hon. Frederick St John Barne    27 avril 1868 – 11 novembre 1868(6\\xa0mois et 15\\xa0jours)  Circonscription  Leominster    Prédécesseur  Arthur Walsh    Successeur  Hon. Richard Arkwright    Biographie  Titre complet  Comte Stanhope    Date de naissance  13 septembre 1838    Date de décès  19 avril 1905 (à 66\\xa0ans)    Nationalité   Britannique    Parti politique  Parti conservateur    Père  Philip Stanhope    Mère  Emily Harriet Kerrison    Conjoint  Evelyn Henrietta Pennefather    Enfants  2 enfants dont\\xa0: James Stanhope    Profession  homme politique    modifier\\xa0   Arthur Philip Stanhope, 6e comte Stanhope (13 septembre 1838 - 19 avril 1905), est un homme politique du parti conservateur britannique. De 1855 à 1875, il est appelé vicomte Mahon.    Biographie[modifier | modifier le code] Il est un fils de Philip Stanhope (5e comte Stanhope) et de son épouse Emily Harriet Kerrison. En tant que vicomte Mahon, il siège pendant quelques mois comme député de Leominster et revient à la Chambre des communes en tant que député de Suffolk East de 1870 à 1875. Il est président de l'Union nationale des associations conservatrices et constitutionnelles en 1875[1].  Il devient comte Stanhope à la mort de son père le 24 décembre 1875. Il est nommé premier commissaire des successions ecclésiastiques en décembre 1878  et Lord Lieutenant du Kent de 1890 à 1905.   Famille[modifier | modifier le code] Il épouse Evelyn Pennefather, fille de Richard Pennefather de Knockeevan, Comté de Tipperary et de son épouse, Lady Emily Butler, fille de Richard Butler (1er comte de Glengall). Ils ont deux enfants:   James Stanhope (7e comte Stanhope) (1880-1967) Capt. L'hon. Richard Philip Stanhope (16 janvier 1885 - 15 septembre 1916), marié à Lady Beryl le Poer Trench (décédé en 1957), fille de William Le Poer Trench, 5e comte de Clancarty le 13 mai 1914, sans descendance. Il est tué à la Bataille de Flers-Courcelette. Références[modifier | modifier le code] (en) Cet article est partiellement ou en totalité issu de l’article de Wikipédia en anglais intitulé «\\xa0Arthur Stanhope, 6th Earl Stanhope\\xa0» (voir la liste des auteurs).  ↑ Cook & Keith, 'British Historical Facts 1830–1900', 1975, p.\\xa093    Liens externes[modifier | modifier le code] Notices d'autorité\\xa0: Fichier d’autorité international virtuel Gemeinsame Normdatei WorldCat  (en)Hansard 1803–2005\\xa0: contributions de Viscount Mahon au Parlement du Royaume-Uni  Portail de la politique britannique       Ce document provient de «\\xa0https://fr.wikipedia.org/w/index.php?title=Arthur_Stanhope_(6e_comte_Stanhope)&oldid=200468933\\xa0». Catégories\\u202f: Député du 21e Parlement du Royaume-UniDéputé du 20e Parlement du Royaume-UniDéputé du 19e Parlement du Royaume-UniDéputé du Parti conservateur (Royaume-Uni)Représentant de l'Angleterre à la Chambre des communesLord-lieutenant du KentComte de la pairie de Grande-BretagneDécès en avril 1905Naissance en septembre 1838Décès à 66 ansComte StanhopeCatégories cachées\\u202f: Article utilisant une InfoboxArticle de Wikipédia avec notice d'autoritéPortail:Politique britannique/Articles liésPortail:Politique/Articles liésPortail:Royaume-Uni/Articles liésPortail:Europe/Articles liésWikipédia:Article biographiquePortail:Biographie/Articles liés/Politique        La dernière modification de cette page a été faite le 15 janvier 2023 à 15:41. Droit d'auteur : les textes sont disponibles sous licence Creative Commons attribution, partage dans les mêmes conditions ; d’autres conditions peuvent s’appliquer. Voyez les conditions d’utilisation pour plus de détails, ainsi que les crédits graphiques. En cas de réutilisation des textes de cette page, voyez comment citer les auteurs et mentionner la licence. Wikipedia® est une marque déposée de la Wikimedia Foundation, Inc., organisation de bienfaisance régie par le paragraphe 501(c)(3) du code fiscal des États-Unis.   Politique de confidentialité À propos de Wikipédia Avertissements Contact Version mobile Développeurs Statistiques Déclaration sur les témoins (cookies)              \""
      ]
     },
     "execution_count": 4,
     "metadata": {},
     "output_type": "execute_result"
    }
   ],
   "source": [
    "get_html_test('https://fr.wikipedia.org/wiki/Arthur_Stanhope_(6e_comte_Stanhope)')"
   ]
  },
  {
   "cell_type": "code",
   "execution_count": 5,
   "metadata": {},
   "outputs": [],
   "source": [
    "from nltk.corpus import stopwords"
   ]
  },
  {
   "cell_type": "code",
   "execution_count": 15,
   "metadata": {},
   "outputs": [],
   "source": [
    "stop_words = set(list(stopwords.words('french')))"
   ]
  },
  {
   "cell_type": "code",
   "execution_count": 16,
   "metadata": {},
   "outputs": [
    {
     "data": {
      "text/plain": [
       "{'ai',\n",
       " 'aie',\n",
       " 'aient',\n",
       " 'aies',\n",
       " 'ait',\n",
       " 'as',\n",
       " 'au',\n",
       " 'aura',\n",
       " 'aurai',\n",
       " 'auraient',\n",
       " 'aurais',\n",
       " 'aurait',\n",
       " 'auras',\n",
       " 'aurez',\n",
       " 'auriez',\n",
       " 'aurions',\n",
       " 'aurons',\n",
       " 'auront',\n",
       " 'aux',\n",
       " 'avaient',\n",
       " 'avais',\n",
       " 'avait',\n",
       " 'avec',\n",
       " 'avez',\n",
       " 'aviez',\n",
       " 'avions',\n",
       " 'avons',\n",
       " 'ayant',\n",
       " 'ayante',\n",
       " 'ayantes',\n",
       " 'ayants',\n",
       " 'ayez',\n",
       " 'ayons',\n",
       " 'c',\n",
       " 'ce',\n",
       " 'ces',\n",
       " 'd',\n",
       " 'dans',\n",
       " 'de',\n",
       " 'des',\n",
       " 'du',\n",
       " 'elle',\n",
       " 'en',\n",
       " 'es',\n",
       " 'est',\n",
       " 'et',\n",
       " 'eu',\n",
       " 'eue',\n",
       " 'eues',\n",
       " 'eurent',\n",
       " 'eus',\n",
       " 'eusse',\n",
       " 'eussent',\n",
       " 'eusses',\n",
       " 'eussiez',\n",
       " 'eussions',\n",
       " 'eut',\n",
       " 'eux',\n",
       " 'eûmes',\n",
       " 'eût',\n",
       " 'eûtes',\n",
       " 'furent',\n",
       " 'fus',\n",
       " 'fusse',\n",
       " 'fussent',\n",
       " 'fusses',\n",
       " 'fussiez',\n",
       " 'fussions',\n",
       " 'fut',\n",
       " 'fûmes',\n",
       " 'fût',\n",
       " 'fûtes',\n",
       " 'il',\n",
       " 'ils',\n",
       " 'j',\n",
       " 'je',\n",
       " 'l',\n",
       " 'la',\n",
       " 'le',\n",
       " 'les',\n",
       " 'leur',\n",
       " 'lui',\n",
       " 'm',\n",
       " 'ma',\n",
       " 'mais',\n",
       " 'me',\n",
       " 'mes',\n",
       " 'moi',\n",
       " 'mon',\n",
       " 'même',\n",
       " 'n',\n",
       " 'ne',\n",
       " 'nos',\n",
       " 'notre',\n",
       " 'nous',\n",
       " 'on',\n",
       " 'ont',\n",
       " 'ou',\n",
       " 'par',\n",
       " 'pas',\n",
       " 'pour',\n",
       " 'qu',\n",
       " 'que',\n",
       " 'qui',\n",
       " 's',\n",
       " 'sa',\n",
       " 'se',\n",
       " 'sera',\n",
       " 'serai',\n",
       " 'seraient',\n",
       " 'serais',\n",
       " 'serait',\n",
       " 'seras',\n",
       " 'serez',\n",
       " 'seriez',\n",
       " 'serions',\n",
       " 'serons',\n",
       " 'seront',\n",
       " 'ses',\n",
       " 'soient',\n",
       " 'sois',\n",
       " 'soit',\n",
       " 'sommes',\n",
       " 'son',\n",
       " 'sont',\n",
       " 'soyez',\n",
       " 'soyons',\n",
       " 'suis',\n",
       " 'sur',\n",
       " 't',\n",
       " 'ta',\n",
       " 'te',\n",
       " 'tes',\n",
       " 'toi',\n",
       " 'ton',\n",
       " 'tu',\n",
       " 'un',\n",
       " 'une',\n",
       " 'vos',\n",
       " 'votre',\n",
       " 'vous',\n",
       " 'y',\n",
       " 'à',\n",
       " 'étaient',\n",
       " 'étais',\n",
       " 'était',\n",
       " 'étant',\n",
       " 'étante',\n",
       " 'étantes',\n",
       " 'étants',\n",
       " 'étiez',\n",
       " 'étions',\n",
       " 'été',\n",
       " 'étée',\n",
       " 'étées',\n",
       " 'étés',\n",
       " 'êtes'}"
      ]
     },
     "execution_count": 16,
     "metadata": {},
     "output_type": "execute_result"
    }
   ],
   "source": [
    "stop_words"
   ]
  }
 ],
 "metadata": {
  "kernelspec": {
   "display_name": "Python 3",
   "language": "python",
   "name": "python3"
  },
  "language_info": {
   "codemirror_mode": {
    "name": "ipython",
    "version": 3
   },
   "file_extension": ".py",
   "mimetype": "text/x-python",
   "name": "python",
   "nbconvert_exporter": "python",
   "pygments_lexer": "ipython3",
   "version": "3.8.10"
  },
  "orig_nbformat": 4,
  "vscode": {
   "interpreter": {
    "hash": "916dbcbb3f70747c44a77c7bcd40155683ae19c65e1c03b4aa3499c5328201f1"
   }
  }
 },
 "nbformat": 4,
 "nbformat_minor": 2
}
